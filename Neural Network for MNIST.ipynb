{
  "nbformat": 4,
  "nbformat_minor": 0,
  "metadata": {
    "colab": {
      "provenance": []
    },
    "kernelspec": {
      "name": "python3",
      "display_name": "Python 3"
    },
    "language_info": {
      "name": "python"
    }
  },
  "cells": [
    {
      "cell_type": "markdown",
      "source": [
        "*   Name: Brinda Gupta\n",
        "*   Enrollment Number: 19/11/EC/001\n",
        "*   Branch: CSE\n",
        "*   Email: brindagupta2002@gmail.com\n",
        "\n"
      ],
      "metadata": {
        "id": "46_EuTJqlhJJ"
      }
    },
    {
      "cell_type": "code",
      "source": [
        "from google.colab import drive\n",
        "drive.mount('/content/drive')"
      ],
      "metadata": {
        "colab": {
          "base_uri": "https://localhost:8080/"
        },
        "id": "X3jiRbSgD9aO",
        "outputId": "5584d80f-ced2-4442-d1c7-4a5e54d37217"
      },
      "execution_count": 15,
      "outputs": [
        {
          "output_type": "stream",
          "name": "stdout",
          "text": [
            "Drive already mounted at /content/drive; to attempt to forcibly remount, call drive.mount(\"/content/drive\", force_remount=True).\n"
          ]
        }
      ]
    },
    {
      "cell_type": "markdown",
      "source": [
        "#Importing Data"
      ],
      "metadata": {
        "id": "cKk6NylVilkx"
      }
    },
    {
      "cell_type": "code",
      "execution_count": 1,
      "metadata": {
        "colab": {
          "base_uri": "https://localhost:8080/"
        },
        "id": "2BTVUIZP68ND",
        "outputId": "f054e229-99c4-4cd3-dd01-6f44c08467a7"
      },
      "outputs": [
        {
          "output_type": "stream",
          "name": "stdout",
          "text": [
            "Downloading http://yann.lecun.com/exdb/mnist/train-images-idx3-ubyte.gz\n",
            "Failed to download (trying next):\n",
            "HTTP Error 403: Forbidden\n",
            "\n",
            "Downloading https://ossci-datasets.s3.amazonaws.com/mnist/train-images-idx3-ubyte.gz\n",
            "Downloading https://ossci-datasets.s3.amazonaws.com/mnist/train-images-idx3-ubyte.gz to data/MNIST/raw/train-images-idx3-ubyte.gz\n"
          ]
        },
        {
          "output_type": "stream",
          "name": "stderr",
          "text": [
            "100%|██████████| 9912422/9912422 [00:00<00:00, 11444993.05it/s]\n"
          ]
        },
        {
          "output_type": "stream",
          "name": "stdout",
          "text": [
            "Extracting data/MNIST/raw/train-images-idx3-ubyte.gz to data/MNIST/raw\n",
            "\n",
            "Downloading http://yann.lecun.com/exdb/mnist/train-labels-idx1-ubyte.gz\n",
            "Failed to download (trying next):\n",
            "HTTP Error 403: Forbidden\n",
            "\n",
            "Downloading https://ossci-datasets.s3.amazonaws.com/mnist/train-labels-idx1-ubyte.gz\n",
            "Downloading https://ossci-datasets.s3.amazonaws.com/mnist/train-labels-idx1-ubyte.gz to data/MNIST/raw/train-labels-idx1-ubyte.gz\n"
          ]
        },
        {
          "output_type": "stream",
          "name": "stderr",
          "text": [
            "100%|██████████| 28881/28881 [00:00<00:00, 361434.01it/s]\n"
          ]
        },
        {
          "output_type": "stream",
          "name": "stdout",
          "text": [
            "Extracting data/MNIST/raw/train-labels-idx1-ubyte.gz to data/MNIST/raw\n",
            "\n",
            "Downloading http://yann.lecun.com/exdb/mnist/t10k-images-idx3-ubyte.gz\n",
            "Failed to download (trying next):\n",
            "HTTP Error 403: Forbidden\n",
            "\n",
            "Downloading https://ossci-datasets.s3.amazonaws.com/mnist/t10k-images-idx3-ubyte.gz\n",
            "Downloading https://ossci-datasets.s3.amazonaws.com/mnist/t10k-images-idx3-ubyte.gz to data/MNIST/raw/t10k-images-idx3-ubyte.gz\n"
          ]
        },
        {
          "output_type": "stream",
          "name": "stderr",
          "text": [
            "100%|██████████| 1648877/1648877 [00:00<00:00, 3238125.55it/s]\n"
          ]
        },
        {
          "output_type": "stream",
          "name": "stdout",
          "text": [
            "Extracting data/MNIST/raw/t10k-images-idx3-ubyte.gz to data/MNIST/raw\n",
            "\n",
            "Downloading http://yann.lecun.com/exdb/mnist/t10k-labels-idx1-ubyte.gz\n",
            "Failed to download (trying next):\n",
            "HTTP Error 403: Forbidden\n",
            "\n",
            "Downloading https://ossci-datasets.s3.amazonaws.com/mnist/t10k-labels-idx1-ubyte.gz\n",
            "Downloading https://ossci-datasets.s3.amazonaws.com/mnist/t10k-labels-idx1-ubyte.gz to data/MNIST/raw/t10k-labels-idx1-ubyte.gz\n"
          ]
        },
        {
          "output_type": "stream",
          "name": "stderr",
          "text": [
            "100%|██████████| 4542/4542 [00:00<00:00, 4887257.25it/s]\n"
          ]
        },
        {
          "output_type": "stream",
          "name": "stdout",
          "text": [
            "Extracting data/MNIST/raw/t10k-labels-idx1-ubyte.gz to data/MNIST/raw\n",
            "\n",
            "torch.Size([60000, 28, 28]) torch.Size([60000])\n",
            "torch.Size([60000, 28, 28]) torch.Size([60000])\n"
          ]
        }
      ],
      "source": [
        "import torch\n",
        "import torch.nn as nn\n",
        "import torch.optim as optim\n",
        "import torchvision\n",
        "\n",
        "# Load MNIST data\n",
        "train = torchvision.datasets.MNIST('data', train=True, download=True)\n",
        "val = torchvision.datasets.MNIST('data', train=True, download=True)\n",
        "print(train.data.shape, train.targets.shape)\n",
        "print(val.data.shape, val.targets.shape)"
      ]
    },
    {
      "cell_type": "markdown",
      "source": [
        "#Data Visualisation"
      ],
      "metadata": {
        "id": "uq_nM3BmisFa"
      }
    },
    {
      "cell_type": "code",
      "source": [
        "import matplotlib.pyplot as plt\n",
        "import torchvision\n",
        "\n",
        "train = torchvision.datasets.MNIST('./data', train=True, download=True)\n",
        "\n",
        "fig, ax = plt.subplots(4, 4, sharex=True, sharey=True)\n",
        "for i in range(4):\n",
        "    for j in range(4):\n",
        "        ax[i][j].imshow(train.data[4*i+j], cmap=\"gray\")\n",
        "plt.show()"
      ],
      "metadata": {
        "colab": {
          "base_uri": "https://localhost:8080/",
          "height": 434
        },
        "id": "z1GXZ1Fx7B4L",
        "outputId": "d37a80e7-1be3-45c3-a88b-01c2b0b31096"
      },
      "execution_count": 2,
      "outputs": [
        {
          "output_type": "display_data",
          "data": {
            "text/plain": [
              "<Figure size 640x480 with 16 Axes>"
            ],
            "image/png": "[encoded data removed]"
          },
          "metadata": {}
        }
      ]
    },
    {
      "cell_type": "code",
      "source": [
        "# each sample becomes a vector of values 0-1\n",
        "X_train = train.data.reshape(-1, 784).float() / 255.0\n",
        "y_train = train.targets\n",
        "X_val = val.data.reshape(-1, 784).float() / 255.0\n",
        "y_val = val.targets"
      ],
      "metadata": {
        "id": "LTrz8yA17FNr"
      },
      "execution_count": 3,
      "outputs": []
    },
    {
      "cell_type": "markdown",
      "source": [
        "#Model"
      ],
      "metadata": {
        "id": "lydI0Aqtkp2f"
      }
    },
    {
      "cell_type": "code",
      "source": [
        "class Baseline(nn.Module):\n",
        "    def __init__(self):\n",
        "        super().__init__()\n",
        "        self.layer1 = nn.Linear(784, 784)\n",
        "        self.act1 = nn.ReLU()\n",
        "        self.layer2 = nn.Linear(784, 10)\n",
        "\n",
        "    def forward(self, x):\n",
        "        x = self.act1(self.layer1(x))\n",
        "        x = self.layer2(x)\n",
        "        return x"
      ],
      "metadata": {
        "id": "AP9s4pM77WP6"
      },
      "execution_count": 4,
      "outputs": []
    },
    {
      "cell_type": "markdown",
      "source": [
        "##Function for clamping\n",
        "The values of the weights must be between 0 and 1 only for memristor crossbar"
      ],
      "metadata": {
        "id": "VwVXULMGkyoG"
      }
    },
    {
      "cell_type": "code",
      "source": [
        "def clamp_weights(model):\n",
        "    for param in model.parameters():\n",
        "        param.data.clamp_(min=0.0001)"
      ],
      "metadata": {
        "id": "gRJdThWsJdU8"
      },
      "execution_count": 5,
      "outputs": []
    },
    {
      "cell_type": "markdown",
      "source": [
        "#Training"
      ],
      "metadata": {
        "id": "-vfLt0q2ktzy"
      }
    },
    {
      "cell_type": "code",
      "source": [
        "model = Baseline()\n",
        "\n",
        "optimizer = optim.SGD(model.parameters(), lr=0.01)\n",
        "loss_fn = nn.CrossEntropyLoss()\n",
        "loader = torch.utils.data.DataLoader(list(zip(X_train, y_train)), shuffle=True, batch_size=100)\n",
        "\n",
        "n_epochs = 10\n",
        "for epoch in range(n_epochs):\n",
        "    model.train()\n",
        "    for X_batch, y_batch in loader:\n",
        "        y_pred = model(X_batch)\n",
        "        loss = loss_fn(y_pred, y_batch)\n",
        "        optimizer.zero_grad()\n",
        "        loss.backward()\n",
        "        optimizer.step()\n",
        "        # Clamp weights to [0, 1]\n",
        "        clamp_weights(model)\n",
        "    # Validation\n",
        "    model.eval()\n",
        "    y_pred = model(X_val)\n",
        "    acc = (torch.argmax(y_pred, 1) == y_val).float().mean()\n",
        "    print(\"Epoch %d: model accuracy %.2f%%\" % (epoch, acc*100))"
      ],
      "metadata": {
        "colab": {
          "base_uri": "https://localhost:8080/"
        },
        "id": "aMD843dY7Yg7",
        "outputId": "e4a8fa30-52f6-4a2b-964b-42d717071fe8"
      },
      "execution_count": 6,
      "outputs": [
        {
          "output_type": "stream",
          "name": "stdout",
          "text": [
            "Epoch 0: model accuracy 72.45%\n",
            "Epoch 1: model accuracy 83.49%\n",
            "Epoch 2: model accuracy 85.99%\n",
            "Epoch 3: model accuracy 87.65%\n",
            "Epoch 4: model accuracy 88.10%\n",
            "Epoch 5: model accuracy 88.38%\n",
            "Epoch 6: model accuracy 89.27%\n",
            "Epoch 7: model accuracy 89.33%\n",
            "Epoch 8: model accuracy 89.69%\n",
            "Epoch 9: model accuracy 90.05%\n"
          ]
        }
      ]
    },
    {
      "cell_type": "code",
      "source": [
        "for name, param in model.named_parameters():\n",
        "    print(name, param.size(), param.min(), param.max())"
      ],
      "metadata": {
        "colab": {
          "base_uri": "https://localhost:8080/"
        },
        "id": "dsJNJURKJ7sh",
        "outputId": "b4bd5530-0429-41a3-a5c7-1299c8a2ddfc"
      },
      "execution_count": 7,
      "outputs": [
        {
          "output_type": "stream",
          "name": "stdout",
          "text": [
            "layer1.weight torch.Size([784, 784]) tensor(1.0000e-04, grad_fn=<MinBackward1>) tensor(0.1068, grad_fn=<MaxBackward1>)\n",
            "layer1.bias torch.Size([784]) tensor(1.0000e-04, grad_fn=<MinBackward1>) tensor(0.0816, grad_fn=<MaxBackward1>)\n",
            "layer2.weight torch.Size([10, 784]) tensor(1.0000e-04, grad_fn=<MinBackward1>) tensor(0.3307, grad_fn=<MaxBackward1>)\n",
            "layer2.bias torch.Size([10]) tensor(1.0000e-04, grad_fn=<MinBackward1>) tensor(0.3278, grad_fn=<MaxBackward1>)\n"
          ]
        }
      ]
    },
    {
      "cell_type": "markdown",
      "source": [
        "#Saving the Model"
      ],
      "metadata": {
        "id": "utCGUXc-lB2A"
      }
    },
    {
      "cell_type": "code",
      "source": [
        "from pathlib import Path\n",
        "\n",
        "MODEL_PATH = Path(\"/content/drive/MyDrive/MTech/Experiment\")\n",
        "MODEL_PATH.mkdir(parents=True, exist_ok=True)\n",
        "\n",
        "MODEL_NAME = \"base_mnist_clamped.pth\"\n",
        "MODEL_SAVE_PATH = MODEL_PATH / MODEL_NAME\n",
        "\n",
        "# Saving the model\n",
        "print(f\"Saving the model: {MODEL_SAVE_PATH}\")\n",
        "torch.save(obj=model.state_dict(), f=MODEL_SAVE_PATH)\n",
        "\n",
        "# Loading the saved model\n",
        "model = Baseline()\n",
        "model.load_state_dict(torch.load(MODEL_SAVE_PATH))"
      ],
      "metadata": {
        "colab": {
          "base_uri": "https://localhost:8080/"
        },
        "id": "pna1GYv97avk",
        "outputId": "deae9d6c-9c11-490a-b047-fc805243ac91"
      },
      "execution_count": 8,
      "outputs": [
        {
          "output_type": "stream",
          "name": "stdout",
          "text": [
            "Saving the model: /content/drive/MyDrive/MTech/Experiment/base_mnist_clamped.pth\n"
          ]
        },
        {
          "output_type": "execute_result",
          "data": {
            "text/plain": [
              "<All keys matched successfully>"
            ]
          },
          "metadata": {},
          "execution_count": 8
        }
      ]
    },
    {
      "cell_type": "markdown",
      "source": [
        "#0% Faults Inference"
      ],
      "metadata": {
        "id": "xKZBPawPkjL9"
      }
    },
    {
      "cell_type": "code",
      "source": [
        "test = torchvision.datasets.MNIST('data', train=False, download=True)\n",
        "len(test)\n",
        "X_test = test.data.reshape(-1, 784).float() / 255.0\n",
        "y_test = test.targets"
      ],
      "metadata": {
        "id": "og8mYLe2Cqc6"
      },
      "execution_count": 12,
      "outputs": []
    },
    {
      "cell_type": "code",
      "source": [
        "loader = torch.utils.data.DataLoader(list(zip(X_test, y_test)), shuffle=True, batch_size=100)\n",
        "accuracy = 0\n",
        "model.eval()\n",
        "\n",
        "with torch.no_grad():\n",
        "    for X_batch, y_batch in loader:\n",
        "        y_pred = model(X_batch)\n",
        "        batch_acc = (torch.argmax(y_pred, 1) == y_batch).float().mean()\n",
        "        accuracy += batch_acc.item() * X_batch.size(0)\n",
        "\n",
        "# Calculate overall accuracy\n",
        "accuracy /= len(loader.dataset)\n",
        "print(\"Model accuracy on test set: %.2f%%\" % (accuracy * 100))"
      ],
      "metadata": {
        "colab": {
          "base_uri": "https://localhost:8080/"
        },
        "id": "Ngeh6wSCFS2R",
        "outputId": "dc0d4c8e-c130-46a9-f61f-e176e1f06a62"
      },
      "execution_count": 13,
      "outputs": [
        {
          "output_type": "stream",
          "name": "stdout",
          "text": [
            "Model accuracy on test set: 90.38%\n"
          ]
        }
      ]
    },
    {
      "cell_type": "markdown",
      "source": [
        "Reference/Source:\n",
        "*    Title: How to Develop a CNN for MNIST Handwritten Digit Classification\n",
        "*    Author:  Jason Brownlee\n",
        "*    Date: November 14, 2021\n",
        "*    Availability: https://machinelearningmastery.com/how-to-develop-a-convolutional-neural-network-from-scratch-for-mnist-handwritten-digit-classification/\n"
      ],
      "metadata": {
        "id": "rAdhfwt4jaZq"
      }
    }
  ]
}